{
 "cells": [
  {
   "cell_type": "markdown",
   "metadata": {},
   "source": [
    "# finding reading all das files"
   ]
  },
  {
   "cell_type": "code",
   "execution_count": 3,
   "metadata": {},
   "outputs": [
    {
     "name": "stdout",
     "output_type": "stream",
     "text": [
      "time: 530 µs\n"
     ]
    }
   ],
   "source": [
    "%load_ext autotime\n",
    "base_directory='/home/osman/aramko/'\n",
    "das_directory=base_directory+'inputs/das'\n",
    "predicted=base_directory+'inputs/out/aramco_das'"
   ]
  },
  {
   "cell_type": "code",
   "execution_count": 4,
   "metadata": {},
   "outputs": [
    {
     "name": "stdout",
     "output_type": "stream",
     "text": [
      "time: 738 µs\n"
     ]
    }
   ],
   "source": [
    "def h5_reader(f):\n",
    "    try :\n",
    "        return  h5py.File(f, 'r')\n",
    "    except:\n",
    "        return -1\n",
    "\n",
    "def time_extracter(h5file):\n",
    "    try :\n",
    "        return int(h5file['t'][0])\n",
    "    except:\n",
    "        return -1\n",
    "def das_extracter(f):\n",
    "    try :\n",
    "            return pd.DataFrame(np.array(h5_reader(f).get('das')))\n",
    "    except:\n",
    "            return []"
   ]
  },
  {
   "cell_type": "code",
   "execution_count": 5,
   "metadata": {},
   "outputs": [
    {
     "data": {
      "application/vnd.jupyter.widget-view+json": {
       "model_id": "83485f500c1d4ef8b274530352193223",
       "version_major": 2,
       "version_minor": 0
      },
      "text/plain": [
       "HBox(children=(HTML(value='Pandas Apply'), FloatProgress(value=0.0, max=1140.0), HTML(value='')))"
      ]
     },
     "metadata": {},
     "output_type": "display_data"
    },
    {
     "name": "stdout",
     "output_type": "stream",
     "text": [
      "\n"
     ]
    },
    {
     "data": {
      "application/vnd.jupyter.widget-view+json": {
       "model_id": "9d88944ae5574e5b9e342908ddfa0c50",
       "version_major": 2,
       "version_minor": 0
      },
      "text/plain": [
       "HBox(children=(HTML(value='Pandas Apply'), FloatProgress(value=0.0, max=1140.0), HTML(value='')))"
      ]
     },
     "metadata": {},
     "output_type": "display_data"
    },
    {
     "name": "stdout",
     "output_type": "stream",
     "text": [
      "\n",
      "time: 3.77 s\n"
     ]
    }
   ],
   "source": [
    "import glob\n",
    "import pandas as pd\n",
    "import h5py\n",
    "import swifter\n",
    "import numpy as np\n",
    "import sys\n",
    "from scipy import signal\n",
    "import datetime\n",
    "files=glob.glob(das_directory+\"/*.h5\")\n",
    "files.extend(glob.glob(predicted+\"/*.h\"))\n",
    "filesdf=pd.DataFrame(files,columns=['file'])\n",
    "chanels=list(h5_reader(filesdf['file'][0])['channel'])\n",
    "filesdf['name']=filesdf['file'].swifter.apply(lambda x:x.split('/')[-1].replace('.h5','').replace('.h',''))\n",
    "filesdf['start']=filesdf['file'].swifter.apply(lambda x:time_extracter(h5_reader(x)))\n",
    "filesdf['start']=filesdf['start'].apply(lambda x:datetime.datetime.fromtimestamp(x).strftime('%Y-%m-%d %H:%M')+':00')\n",
    "filesdf=filesdf.drop_duplicates('start').reset_index(drop=True)\n",
    "chanels=list(h5_reader(filesdf['file'][0])['channel'])"
   ]
  },
  {
   "cell_type": "markdown",
   "metadata": {},
   "source": [
    "# finding chanels dept"
   ]
  },
  {
   "cell_type": "code",
   "execution_count": 6,
   "metadata": {},
   "outputs": [
    {
     "data": {
      "text/plain": [
       "[-7.139999999999999,\n",
       " -6.119999999999999,\n",
       " -5.1,\n",
       " -4.08,\n",
       " -3.06,\n",
       " -2.04,\n",
       " -1.02,\n",
       " 0.0,\n",
       " 1.0209961,\n",
       " 2.0419922,\n",
       " 3.0631104,\n",
       " 4.0841064,\n",
       " 5.1051025,\n",
       " 6.127075,\n",
       " 7.1480713,\n",
       " 8.169067,\n",
       " 9.190063,\n",
       " 10.21106,\n",
       " 11.232056,\n",
       " 12.253052,\n",
       " 13.274048,\n",
       " 14.2960205,\n",
       " 15.317017,\n",
       " 16.338013,\n",
       " 17.359009,\n",
       " 18.380005,\n",
       " 19.401001,\n",
       " 20.421997,\n",
       " 21.442993,\n",
       " 22.464111,\n",
       " 23.486084,\n",
       " 24.50708,\n",
       " 25.528076,\n",
       " 26.549072,\n",
       " 27.570068,\n",
       " 28.591064,\n",
       " 29.61206,\n",
       " 30.633057,\n",
       " 31.65503,\n",
       " 32.676025,\n",
       " 33.69702,\n",
       " 34.718018,\n",
       " 35.739014,\n",
       " 36.76001,\n",
       " 37.781006,\n",
       " 38.802002,\n",
       " 39.824097,\n",
       " 40.845093,\n",
       " 41.86609,\n",
       " 42.887085,\n",
       " 43.90808,\n",
       " 44.929077,\n",
       " 45.950073,\n",
       " 46.97107,\n",
       " 47.993042,\n",
       " 49.014038,\n",
       " 50.035034,\n",
       " 51.05603,\n",
       " 52.077026,\n",
       " 53.098022,\n",
       " 54.11902,\n",
       " 55.140015,\n",
       " 56.16101,\n",
       " 57.183105,\n",
       " 58.2041,\n",
       " 59.225098,\n",
       " 60.246094,\n",
       " 61.26709,\n",
       " 62.288086,\n",
       " 63.309082,\n",
       " 64.33008,\n",
       " 65.35205,\n",
       " 66.37305,\n",
       " 67.39404,\n",
       " 68.41504,\n",
       " 69.436035,\n",
       " 70.45703,\n",
       " 71.47803,\n",
       " 72.49902,\n",
       " 73.520996,\n",
       " 74.54199,\n",
       " 75.56311,\n",
       " 76.58411,\n",
       " 77.6051,\n",
       " 78.6261,\n",
       " 79.647095,\n",
       " 80.66809,\n",
       " 81.68909,\n",
       " 82.71106,\n",
       " 83.732056,\n",
       " 84.75305,\n",
       " 85.77405,\n",
       " 86.795044,\n",
       " 87.81604,\n",
       " 88.837036,\n",
       " 89.85803,\n",
       " 90.880005,\n",
       " 91.901,\n",
       " 92.922,\n",
       " 93.94299,\n",
       " 94.96411,\n",
       " 95.98511,\n",
       " 97.0061,\n",
       " 98.0271,\n",
       " 99.04907,\n",
       " 100.07007,\n",
       " 101.091064,\n",
       " 102.11206,\n",
       " 103.13306,\n",
       " 104.15405,\n",
       " 105.17505,\n",
       " 106.196045,\n",
       " 107.21704,\n",
       " 108.23901,\n",
       " 109.26001,\n",
       " 110.281006,\n",
       " 111.302,\n",
       " 112.323,\n",
       " 113.343994,\n",
       " 114.36511,\n",
       " 115.38611,\n",
       " 116.40808,\n",
       " 117.42908,\n",
       " 118.45007,\n",
       " 119.47107,\n",
       " 120.492065,\n",
       " 121.51306,\n",
       " 122.53406,\n",
       " 123.55505,\n",
       " 124.57703,\n",
       " 125.59802,\n",
       " 126.61902,\n",
       " 127.640015,\n",
       " 128.66101,\n",
       " 129.682,\n",
       " 130.703,\n",
       " 131.724,\n",
       " 132.745,\n",
       " 133.76709,\n",
       " 134.78809,\n",
       " 135.80908,\n",
       " 136.83008,\n",
       " 137.85107,\n",
       " 138.87207,\n",
       " 139.89307,\n",
       " 140.91406,\n",
       " 141.93604,\n",
       " 142.95703,\n",
       " 143.97803,\n",
       " 144.99902,\n",
       " 146.02002,\n",
       " 147.04102,\n",
       " 148.06201,\n",
       " 149.08301,\n",
       " 150.1051,\n",
       " 151.1261,\n",
       " 152.1471,\n",
       " 153.16809,\n",
       " 154.18909,\n",
       " 155.21008,\n",
       " 156.23108,\n",
       " 157.25208,\n",
       " 158.27405,\n",
       " 159.29504,\n",
       " 160.31604,\n",
       " 161.33704,\n",
       " 162.35803,\n",
       " 163.37903,\n",
       " 164.40002,\n",
       " 165.42102,\n",
       " 166.44202,\n",
       " 167.46411,\n",
       " 168.4851,\n",
       " 169.5061,\n",
       " 170.5271,\n",
       " 171.5481,\n",
       " 172.56909,\n",
       " 173.59009,\n",
       " 174.61108,\n",
       " 175.63306,\n",
       " 176.65405,\n",
       " 177.67505,\n",
       " 178.69604,\n",
       " 179.71704,\n",
       " 180.73804,\n",
       " 181.75903,\n",
       " 182.78003,\n",
       " 183.802,\n",
       " 184.823,\n",
       " 185.844,\n",
       " 186.86511,\n",
       " 187.88611,\n",
       " 188.9071,\n",
       " 189.9281,\n",
       " 190.9491,\n",
       " 191.9701,\n",
       " 192.99207,\n",
       " 194.01306,\n",
       " 195.03406,\n",
       " 196.05505,\n",
       " 197.07605,\n",
       " 198.09705,\n",
       " 199.11804,\n",
       " 200.13904,\n",
       " 201.16101,\n",
       " 202.182,\n",
       " 203.203,\n",
       " 204.224,\n",
       " 205.245,\n",
       " 206.26605,\n",
       " 207.28705,\n",
       " 208.30804,\n",
       " 209.33008,\n",
       " 210.35107,\n",
       " 211.37207,\n",
       " 212.39307,\n",
       " 213.41406,\n",
       " 214.43506,\n",
       " 215.45605,\n",
       " 216.47705,\n",
       " 217.49805,\n",
       " 218.52008,\n",
       " 219.54108,\n",
       " 220.56207,\n",
       " 221.58307,\n",
       " 222.60406,\n",
       " 223.62506,\n",
       " 224.64606,\n",
       " 225.66705,\n",
       " 226.68903,\n",
       " 227.71008,\n",
       " 228.73108,\n",
       " 229.75208,\n",
       " 230.77307,\n",
       " 231.79407,\n",
       " 232.81506,\n",
       " 233.83606,\n",
       " 234.85803,\n",
       " 235.87903,\n",
       " 236.90002,\n",
       " 237.92108,\n",
       " 238.94208,\n",
       " 239.96307,\n",
       " 240.98407,\n",
       " 242.00507,\n",
       " 243.02704,\n",
       " 244.04803,\n",
       " 245.06903,\n",
       " 246.09003,\n",
       " 247.11102,\n",
       " 248.13208,\n",
       " 249.15308,\n",
       " 250.17407,\n",
       " 251.19507,\n",
       " 252.21704,\n",
       " 253.23804,\n",
       " 254.25903,\n",
       " 255.28003,\n",
       " 256.30103,\n",
       " 257.32208,\n",
       " 258.34308,\n",
       " 259.36407,\n",
       " 260.38605,\n",
       " 261.40704,\n",
       " 262.42804,\n",
       " 263.44904,\n",
       " 264.47003,\n",
       " 265.49103,\n",
       " 266.51202,\n",
       " 267.53308,\n",
       " 268.55505,\n",
       " 269.57605,\n",
       " 270.59705,\n",
       " 271.61804,\n",
       " 272.63904,\n",
       " 273.66003,\n",
       " 274.68103,\n",
       " 275.70203,\n",
       " 276.72302,\n",
       " 277.74506,\n",
       " 278.76605,\n",
       " 279.78705,\n",
       " 280.80804,\n",
       " 281.82904,\n",
       " 282.85004,\n",
       " 283.87103,\n",
       " 284.89203,\n",
       " 285.91406,\n",
       " 286.93506,\n",
       " 287.95605,\n",
       " 288.97705,\n",
       " 289.99805,\n",
       " 291.01904,\n",
       " 292.04004,\n",
       " 293.06104,\n",
       " 294.08307,\n",
       " 295.10406,\n",
       " 296.12506,\n",
       " 297.14606,\n",
       " 298.16705,\n",
       " 299.18805,\n",
       " 300.20905,\n",
       " 301.23004,\n",
       " 302.25104,\n",
       " 303.27307,\n",
       " 304.29407,\n",
       " 305.31506,\n",
       " 306.33606,\n",
       " 307.35706,\n",
       " 308.37805,\n",
       " 309.39905,\n",
       " 310.42004,\n",
       " 311.44208,\n",
       " 312.46307,\n",
       " 313.48407,\n",
       " 314.50507,\n",
       " 315.52606,\n",
       " 316.54706,\n",
       " 317.56805,\n",
       " 318.58905,\n",
       " 319.61102,\n",
       " 320.63208,\n",
       " 321.65308,\n",
       " 322.67407,\n",
       " 323.69507,\n",
       " 324.71606,\n",
       " 325.73706,\n",
       " 326.75806,\n",
       " 327.78003,\n",
       " 328.80103,\n",
       " 329.82208,\n",
       " 330.84308,\n",
       " 331.86407,\n",
       " 332.88507,\n",
       " 333.90607,\n",
       " 334.92706,\n",
       " 335.94806,\n",
       " 336.97003,\n",
       " 337.99103,\n",
       " 339.01202,\n",
       " 340.03308,\n",
       " 341.05408,\n",
       " 342.07507,\n",
       " 343.09607,\n",
       " 344.11707,\n",
       " 345.13904,\n",
       " 346.16003,\n",
       " 347.18103,\n",
       " 348.20203,\n",
       " 349.22302,\n",
       " 350.24408,\n",
       " 351.26508,\n",
       " 352.28607,\n",
       " 353.30804,\n",
       " 354.32904,\n",
       " 355.35004,\n",
       " 356.37103,\n",
       " 357.39203,\n",
       " 358.41302,\n",
       " 359.43408,\n",
       " 360.45508,\n",
       " 361.47607,\n",
       " 362.49805,\n",
       " 363.51904,\n",
       " 363.00806,\n",
       " 361.98706,\n",
       " 360.96606,\n",
       " 359.94507,\n",
       " 358.92407,\n",
       " 357.90308,\n",
       " 356.88104,\n",
       " 355.86005,\n",
       " 354.83905,\n",
       " 353.81805,\n",
       " 352.79706,\n",
       " 351.77606,\n",
       " 350.75507,\n",
       " 349.73407,\n",
       " 348.71204,\n",
       " 347.69104,\n",
       " 346.67004,\n",
       " 345.64905,\n",
       " 344.62805,\n",
       " 343.60706]"
      ]
     },
     "execution_count": 6,
     "metadata": {},
     "output_type": "execute_result"
    },
    {
     "name": "stdout",
     "output_type": "stream",
     "text": [
      "time: 77.6 ms\n"
     ]
    }
   ],
   "source": [
    "depths=list(h5_reader(filesdf['file'][0])['z'])\n",
    "max_dept=max(np.array(depths)[~np.isnan(depths)])-min(np.array(depths)[~np.isnan(depths)])\n",
    "dep=[]\n",
    "for i in range(len(depths)):\n",
    "    if depths[len(depths)-i-1]>0:\n",
    "        dep.append(max(np.array(depths)[~np.isnan(depths)])-depths[len(depths)-i-1])    \n",
    "    else :\n",
    "        dep.append(dep[-1]-1.02)\n",
    "list(reversed(dep))       "
   ]
  },
  {
   "cell_type": "markdown",
   "metadata": {},
   "source": [
    "# splitting das files by chanels and taking the puissance from spectograme\n",
    "### after filtration and downsimpling"
   ]
  },
  {
   "cell_type": "code",
   "execution_count": 7,
   "metadata": {},
   "outputs": [
    {
     "name": "stdout",
     "output_type": "stream",
     "text": [
      "time: 613 µs\n"
     ]
    }
   ],
   "source": [
    "numsimp=int(30000/1000)\n",
    "def signal_preprocessing(sig):\n",
    "    lowpass_filter = signal.butter(1,Wn=0.002,btype='low',output='sos')\n",
    "    a, b = signal.welch(signal.resample((signal.sosfilt(lowpass_filter,sig)),int(numsimp)), fs=0.1, scaling='spectrum')\n",
    "    return b\n",
    "\n",
    "def preprocessing_generale(file):    \n",
    "    data=[]\n",
    "    tmp=das_extracter(file)\n",
    "    if len(tmp)>0:\n",
    "        for i in tmp.columns:\n",
    "            data.append(signal_preprocessing(tmp[i]))\n",
    "        return pd.DataFrame([data])\n",
    "    return pd.DataFrame([])"
   ]
  },
  {
   "cell_type": "code",
   "execution_count": 8,
   "metadata": {
    "scrolled": true
   },
   "outputs": [
    {
     "name": "stderr",
     "output_type": "stream",
     "text": [
      "/home/osman/anaconda3/envs/rapids-0.16/lib/python3.8/site-packages/scipy/signal/spectral.py:1961: UserWarning: nperseg = 256 is greater than input length  = 30, using nperseg = 30\n",
      "  warnings.warn('nperseg = {0:d} is greater than input length '\n",
      "/home/osman/anaconda3/envs/rapids-0.16/lib/python3.8/site-packages/scipy/signal/spectral.py:1961: UserWarning: nperseg = 256 is greater than input length  = 30, using nperseg = 30\n",
      "  warnings.warn('nperseg = {0:d} is greater than input length '\n",
      "/home/osman/anaconda3/envs/rapids-0.16/lib/python3.8/site-packages/scipy/signal/spectral.py:1961: UserWarning: nperseg = 256 is greater than input length  = 30, using nperseg = 30\n",
      "  warnings.warn('nperseg = {0:d} is greater than input length '\n",
      "/home/osman/anaconda3/envs/rapids-0.16/lib/python3.8/site-packages/scipy/signal/spectral.py:1961: UserWarning: nperseg = 256 is greater than input length  = 30, using nperseg = 30\n",
      "  warnings.warn('nperseg = {0:d} is greater than input length '\n"
     ]
    },
    {
     "name": "stdout",
     "output_type": "stream",
     "text": [
      "time: 2min 21s\n"
     ]
    }
   ],
   "source": [
    "import multiprocessing\n",
    "import numpy as np\n",
    "import pandas as pd\n",
    "num_cores = multiprocessing.cpu_count()\n",
    "with multiprocessing.Pool(num_cores) as pool:\n",
    "    data_by_chanel = pd.concat(pool.map(preprocessing_generale, filesdf['file']), ignore_index=True)"
   ]
  },
  {
   "cell_type": "code",
   "execution_count": 9,
   "metadata": {
    "scrolled": true
   },
   "outputs": [
    {
     "name": "stdout",
     "output_type": "stream",
     "text": [
      "time: 417 ms\n"
     ]
    }
   ],
   "source": [
    "data_by_chanel['time']=pd.to_datetime(filesdf['start'])\n",
    "data_by_chanel['time']=pd.to_datetime(data_by_chanel['time'])\n",
    "data_by_chanel=data_by_chanel[data_by_chanel['time']>'2016-03-18 00:00:00'].reset_index(drop=True)\n",
    "data_by_chanel=data_by_chanel.melt(id_vars=['time'], var_name='chanel', value_name='das').reset_index(drop=True)\n",
    "data_by_chanel['depth']=data_by_chanel['chanel'].apply(lambda x: list(reversed(dep))[x])"
   ]
  },
  {
   "cell_type": "markdown",
   "metadata": {},
   "source": [
    "# appliying PCA on the preprocessed signal "
   ]
  },
  {
   "cell_type": "code",
   "execution_count": 10,
   "metadata": {},
   "outputs": [
    {
     "name": "stdout",
     "output_type": "stream",
     "text": [
      "time: 5.02 s\n"
     ]
    }
   ],
   "source": [
    "from sklearn.preprocessing import MinMaxScaler\n",
    "from cuml.decomposition import PCA as cuPCA\n",
    "scaler= MinMaxScaler()\n",
    "pca_cuml = cuPCA(n_components=1,random_state=42)\n",
    "pca_results=pd.DataFrame(pca_cuml.fit_transform(scaler.fit_transform(pd.DataFrame(data_by_chanel['das'].values.tolist()))))\n",
    "data_by_chanel['c0']=pca_results[0]\n",
    "#data_by_chanel['c1']=pca_results[1]"
   ]
  },
  {
   "cell_type": "code",
   "execution_count": 11,
   "metadata": {},
   "outputs": [
    {
     "data": {
      "text/plain": [
       "array([2.38570822e-10, 3.26634873e-07, 2.69726412e-06, 3.43381990e-06,\n",
       "       1.52086358e-07, 2.55467435e-07, 5.04969739e-10, 9.11239091e-08,\n",
       "       1.18023540e-07, 8.62181334e-08, 3.58159273e-08, 2.28474853e-07,\n",
       "       7.99708401e-08, 4.56539875e-08, 1.26745656e-08, 6.31949110e-08])"
      ]
     },
     "execution_count": 11,
     "metadata": {},
     "output_type": "execute_result"
    },
    {
     "name": "stdout",
     "output_type": "stream",
     "text": [
      "time: 2.13 ms\n"
     ]
    }
   ],
   "source": [
    "data_by_chanel['das'][0]"
   ]
  },
  {
   "cell_type": "markdown",
   "metadata": {},
   "source": [
    "# using Kmeasn to find das segmets and then drawing results"
   ]
  },
  {
   "cell_type": "code",
   "execution_count": 12,
   "metadata": {},
   "outputs": [
    {
     "data": {
      "image/png": "[encoded data removed]",
      "text/plain": [
       "<Figure size 2160x1440 with 1 Axes>"
      ]
     },
     "metadata": {
      "needs_background": "light"
     },
     "output_type": "display_data"
    },
    {
     "name": "stdout",
     "output_type": "stream",
     "text": [
      "time: 3.9 s\n"
     ]
    }
   ],
   "source": [
    "from sklearn.cluster import KMeans\n",
    "import matplotlib.pyplot as plt\n",
    "import numpy as np\n",
    "model = KMeans(n_clusters=3,random_state=1230).fit(data_by_chanel[['c0']])\n",
    "classes={0:'normal',\n",
    "        1:'annormal 1',\n",
    "        2: 'anormal 2',\n",
    "        3:'anormal 3',\n",
    "        4:'anormal 4',\n",
    "        5:'anormal 5'}\n",
    "fig, ax = plt.subplots(figsize=(30,20))\n",
    "for g in np.unique(model.labels_):\n",
    "    i = np.where(model.labels_ == g)\n",
    "    ax.scatter(data_by_chanel.loc[i]['c0'],data_by_chanel.loc[i]['depth'], label=classes[g])\n",
    "ax.invert_yaxis()\n",
    "ax.legend(prop={'size': 25},markerscale=4)\n",
    "plt.title('2d DAS anomality detection',fontsize=24)\n",
    "plt.show()"
   ]
  },
  {
   "cell_type": "code",
   "execution_count": 13,
   "metadata": {},
   "outputs": [
    {
     "name": "stdout",
     "output_type": "stream",
     "text": [
      "time: 4.07 s\n"
     ]
    }
   ],
   "source": [
    "import plotly as py\n",
    "import plotly.express as px\n",
    "data_by_chanel['class']=model.labels_\n",
    "data_by_chanel['class']=data_by_chanel['class'].apply(lambda x: classes[x])\n",
    "fig = px.scatter(data_by_chanel, x='time',y='depth',color='class',\n",
    "             size_max=2,template='gridon',range_y=[370,0])\n",
    "fig.update_layout(\n",
    "    legend_title=\"please click on the colors bellew \\nto filter points\",\n",
    "    title=\"distribution of DAS by time and depth\",legend=dict(itemdoubleclick=False) )\n",
    "fig.write_html('DAS-2d.html')"
   ]
  },
  {
   "cell_type": "code",
   "execution_count": 14,
   "metadata": {},
   "outputs": [
    {
     "name": "stdout",
     "output_type": "stream",
     "text": [
      "time: 3.88 s\n"
     ]
    }
   ],
   "source": [
    "import plotly as py\n",
    "import plotly.express as px\n",
    "fig = px.scatter_3d(data_by_chanel, x='time',y='c0',z='depth',color='class',\n",
    "             size_max=2,template='gridon')\n",
    "fig.update_scenes(zaxis_autorange=\"reversed\")\n",
    "fig.update_layout(\n",
    "    legend_title=\"please click on the colors bellew \\nto filter points\",\n",
    "    title=\"distribution of anomalities in DAS by time and depth\",legend=dict(itemdoubleclick=False) )\n",
    "fig.update_scenes(yaxis_autorange=\"reversed\")\n",
    "fig.write_html('DAS-3d.html')"
   ]
  },
  {
   "cell_type": "code",
   "execution_count": 15,
   "metadata": {},
   "outputs": [
    {
     "name": "stdout",
     "output_type": "stream",
     "text": [
      "time: 1.84 s\n"
     ]
    }
   ],
   "source": [
    "data_by_chanel.to_pickle('DAS_anomality_output.pkl')"
   ]
  }
 ],
 "metadata": {
  "kernelspec": {
   "display_name": "gpu",
   "language": "python",
   "name": "gpu"
  },
  "language_info": {
   "codemirror_mode": {
    "name": "ipython",
    "version": 3
   },
   "file_extension": ".py",
   "mimetype": "text/x-python",
   "name": "python",
   "nbconvert_exporter": "python",
   "pygments_lexer": "ipython3",
   "version": "3.8.6"
  }
 },
 "nbformat": 4,
 "nbformat_minor": 2
}
